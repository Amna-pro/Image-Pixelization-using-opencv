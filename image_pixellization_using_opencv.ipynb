{
  "nbformat": 4,
  "nbformat_minor": 0,
  "metadata": {
    "colab": {
      "provenance": [],
      "toc_visible": true
    },
    "kernelspec": {
      "name": "python3",
      "display_name": "Python 3"
    },
    "language_info": {
      "name": "python"
    }
  },
  "cells": [
    {
      "cell_type": "code",
      "execution_count": 196,
      "metadata": {
        "colab": {
          "base_uri": "https://localhost:8080/"
        },
        "id": "KgH2qYgsjFx7",
        "outputId": "5bafef2d-593f-4156-ec86-e345edfcb461"
      },
      "outputs": [
        {
          "output_type": "stream",
          "name": "stdout",
          "text": [
            "Mounted at /content/drive/\n"
          ]
        }
      ],
      "source": [
        "from google.colab import drive, files                # now we assess the dataset from google drive\n",
        "drive.mount('/content/drive/')\n",
        "import cv2\n",
        "import numpy as np\n",
        "from google.colab.patches import cv2_imshow"
      ]
    },
    {
      "cell_type": "code",
      "source": [
        "img=np.array([[0,1,2,3],[4,5,6,7],[8,9,10,11],[12,13,14,15]])\n",
        "\n",
        "print(img[2,2])\n",
        "cv2_imshow(img)"
      ],
      "metadata": {
        "colab": {
          "base_uri": "https://localhost:8080/",
          "height": 52
        },
        "id": "7twoMPY1mY6q",
        "outputId": "b3fb5035-4d5d-4df7-d05a-c6a082fbdc2f"
      },
      "execution_count": 59,
      "outputs": [
        {
          "output_type": "stream",
          "name": "stdout",
          "text": [
            "10\n"
          ]
        },
        {
          "output_type": "display_data",
          "data": {
            "text/plain": [
              "<PIL.Image.Image image mode=L size=4x4>"
            ],
            "image/png": "[encoded data removed]"
          },
          "metadata": {}
        }
      ]
    },
    {
      "cell_type": "code",
      "source": [
        "height=40\n",
        "width=90\n",
        "img=np.ones((height,width),dtype=np.uint8)*125\n",
        "\n",
        "cv2_imshow(img)"
      ],
      "metadata": {
        "colab": {
          "base_uri": "https://localhost:8080/",
          "height": 57
        },
        "id": "CXwAUzpRp5Cd",
        "outputId": "51427de0-266d-4ad8-8987-d30c9c7e408b"
      },
      "execution_count": 70,
      "outputs": [
        {
          "output_type": "display_data",
          "data": {
            "text/plain": [
              "<PIL.Image.Image image mode=L size=90x40>"
            ],
            "image/png": "[encoded data removed]"
          },
          "metadata": {}
        }
      ]
    },
    {
      "cell_type": "code",
      "source": [
        "img=np.ones((255,255),dtype=np.uint8)*125\n",
        "img[0:90,0:30]=50\n",
        "cv2_imshow(img)"
      ],
      "metadata": {
        "colab": {
          "base_uri": "https://localhost:8080/",
          "height": 272
        },
        "id": "K1LaDJE7rM19",
        "outputId": "c7c77c9a-a9db-469a-f303-f57734775485"
      },
      "execution_count": 76,
      "outputs": [
        {
          "output_type": "display_data",
          "data": {
            "text/plain": [
              "<PIL.Image.Image image mode=L size=255x255>"
            ],
            "image/png": "[encoded data removed]"
          },
          "metadata": {}
        }
      ]
    },
    {
      "cell_type": "code",
      "source": [],
      "metadata": {
        "id": "aiqjVPJHuV5a"
      },
      "execution_count": null,
      "outputs": []
    },
    {
      "cell_type": "code",
      "source": [
        "img=np.array([\n",
        "    [[0,1,2,3],[4,5,6,7],[8,9,10,11],[12,13,14,15]]\n",
        "\n",
        "              ,[[16,17,18,19],[20,21,22,23],[24,25,36,81],[12,83,14,95]]\n",
        "\n",
        "              ,[[0,10,20,30],[4,5,6,7],[8,9,10,100],[12,13,14,15]]\n",
        "\n",
        "              ])\n",
        "\n",
        "print(img[1,3,3])\n",
        "cv2_imshow(img)"
      ],
      "metadata": {
        "colab": {
          "base_uri": "https://localhost:8080/",
          "height": 52
        },
        "id": "UnpCrqppt5RB",
        "outputId": "5930c188-d525-4930-e2ff-a09aec44774b"
      },
      "execution_count": 87,
      "outputs": [
        {
          "output_type": "stream",
          "name": "stdout",
          "text": [
            "95\n"
          ]
        },
        {
          "output_type": "display_data",
          "data": {
            "text/plain": [
              "<PIL.Image.Image image mode=RGBA size=4x3>"
            ],
            "image/png": "[encoded data removed]"
          },
          "metadata": {}
        }
      ]
    },
    {
      "cell_type": "markdown",
      "source": [],
      "metadata": {
        "id": "0mDjEx0qmq1o"
      }
    },
    {
      "cell_type": "code",
      "source": [
        "height=256\n",
        "width=256\n",
        "channel=3\n",
        "img=np.ones((height,width,channel),dtype=np.uint8)*0\n",
        "\n",
        "cv2_imshow(img)"
      ],
      "metadata": {
        "colab": {
          "base_uri": "https://localhost:8080/",
          "height": 273
        },
        "id": "gwihPQESxCCD",
        "outputId": "d8a556d0-b67c-41a6-c28b-1a976c5e525e"
      },
      "execution_count": 119,
      "outputs": [
        {
          "output_type": "display_data",
          "data": {
            "text/plain": [
              "<PIL.Image.Image image mode=RGB size=256x256>"
            ],
            "image/png": "[encoded data removed]"
          },
          "metadata": {}
        }
      ]
    },
    {
      "cell_type": "code",
      "source": [
        "img[0:30,0:255,0]=255#blue\n",
        "img[31:90,0:50,1]=255#gree\n",
        "img[90:255,0:250,2]=255#red\n",
        "\n",
        "cv2_imshow(img)\n"
      ],
      "metadata": {
        "colab": {
          "base_uri": "https://localhost:8080/",
          "height": 273
        },
        "id": "kcnheQSExR0o",
        "outputId": "a3096135-459b-4475-e1bd-df0f101bb9de"
      },
      "execution_count": 125,
      "outputs": [
        {
          "output_type": "display_data",
          "data": {
            "text/plain": [
              "<PIL.Image.Image image mode=RGB size=256x256>"
            ],
            "image/png": "[encoded data removed]"
          },
          "metadata": {}
        }
      ]
    },
    {
      "cell_type": "code",
      "source": [
        "height=290\n",
        "width=290\n",
        "channel=3\n",
        "image=np.ones((height,width,channel),dtype=np.uint8)*0\n",
        "cv2_imshow(image)\n",
        "print(image.shape)\n"
      ],
      "metadata": {
        "colab": {
          "base_uri": "https://localhost:8080/",
          "height": 324
        },
        "id": "hlETYte5zWL6",
        "outputId": "99fd34c9-bf6d-4e31-d090-c86a3d867020"
      },
      "execution_count": 192,
      "outputs": [
        {
          "output_type": "display_data",
          "data": {
            "text/plain": [
              "<PIL.Image.Image image mode=RGB size=290x290>"
            ],
            "image/png": "[encoded data removed]"
          },
          "metadata": {}
        },
        {
          "output_type": "stream",
          "name": "stdout",
          "text": [
            "(290, 290, 3)\n"
          ]
        }
      ]
    },
    {
      "cell_type": "code",
      "source": [
        "image[0:96,0:96,2]=255\n",
        "image[0:96,96:192,0]=255\n",
        "image[0:96,192:290,1]=255\n",
        "\n",
        "image[96:192,0:96,1]=255\n",
        "image[96:190,192:290,0]=255\n",
        "\n",
        "image[192:290,0:96,2]=255\n",
        "image[192:290,96:192,0]=255\n",
        "image[192:290,192:290,2]=255\n",
        "\n",
        "\n",
        "\n",
        "cv2_imshow(image)"
      ],
      "metadata": {
        "colab": {
          "base_uri": "https://localhost:8080/",
          "height": 307
        },
        "id": "hwmadBx40IOy",
        "outputId": "c8dcedb4-4f9f-42f6-f14a-29d29196e546"
      },
      "execution_count": 194,
      "outputs": [
        {
          "output_type": "display_data",
          "data": {
            "text/plain": [
              "<PIL.Image.Image image mode=RGB size=290x290>"
            ],
            "image/png": "[encoded data removed]"
          },
          "metadata": {}
        }
      ]
    },
    {
      "cell_type": "code",
      "source": [
        "cv2.imwrite('drive/MyDrive/image.jpg',image)"
      ],
      "metadata": {
        "colab": {
          "base_uri": "https://localhost:8080/"
        },
        "id": "MwblyNiCxRky",
        "outputId": "47d2e8f4-3166-4420-938d-2b4af82f33b2"
      },
      "execution_count": 205,
      "outputs": [
        {
          "output_type": "execute_result",
          "data": {
            "text/plain": [
              "True"
            ]
          },
          "metadata": {},
          "execution_count": 205
        }
      ]
    }
  ]
}